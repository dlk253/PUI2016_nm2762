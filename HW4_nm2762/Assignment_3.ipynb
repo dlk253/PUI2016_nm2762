{
 "cells": [
  {
   "cell_type": "code",
   "execution_count": 1,
   "metadata": {
    "collapsed": false
   },
   "outputs": [
    {
     "name": "stdout",
     "output_type": "stream",
     "text": [
      "Populating the interactive namespace from numpy and matplotlib\n"
     ]
    }
   ],
   "source": [
    "from __future__  import print_function, division\n",
    "import pylab as pl\n",
    "import pandas as pd\n",
    "import numpy as np\n",
    "import os as os\n",
    "import zipfile as zp\n",
    "import csv as csv\n",
    "import urllib as ulr\n",
    "from pandas import DataFrame\n",
    "\n",
    "\n",
    "%pylab inline\n",
    "\n",
    "\n"
   ]
  },
  {
   "cell_type": "code",
   "execution_count": 27,
   "metadata": {
    "collapsed": false
   },
   "outputs": [
    {
     "name": "stdout",
     "output_type": "stream",
     "text": [
      "56.8\n",
      "511.2\n",
      "47.853\n",
      "361.147\n"
     ]
    }
   ],
   "source": [
    "tab_chistat = [[0.1 * 568, 0.9 * 568], [0.117 * 409, 0.883 * 409]]\n",
    "product_total = 104.653*872.347*568*409\n",
    "\n",
    "\n",
    "for i in (0, 1):\n",
    "    for j in (0, 1):\n",
    "        print (tab_chistat[i][j])\n",
    "        \n",
    "\n"
   ]
  },
  {
   "cell_type": "raw",
   "metadata": {
    "collapsed": true
   },
   "source": [
    "|convicted of a fellony     |     yes   | no        |                  \n",
    "|---------------------------|-----------|-----------|----------------|\n",
    "| test sample               |  56.8     |   511.2   |     568        |\n",
    "| control sample            |  47.853   |   361.147 |    409         |\n",
    "|                           |           |           |                |\n",
    "| total                     |  104,653  |   872,347 |    977.0       |"
   ]
  },
  {
   "cell_type": "code",
   "execution_count": 34,
   "metadata": {
    "collapsed": false
   },
   "outputs": [
    {
     "name": "stdout",
     "output_type": "stream",
     "text": [
      "The chi square is\n"
     ]
    },
    {
     "data": {
      "text/plain": [
       "(None, 0.7184939175052886)"
      ]
     },
     "execution_count": 34,
     "metadata": {},
     "output_type": "execute_result"
    }
   ],
   "source": [
    "TotalN = 0\n",
    "\n",
    "for i in (0, 1):\n",
    "    for j in (0, 1):\n",
    "        TotalN = TotalN + tab_chistat[i][j]\n",
    "\n",
    "chistat = ((tab_chistat[0][0]*tab_chistat[1][1]-tab_chistat[0][1]*tab_chistat[1][0])**2) * TotalN / product_total\n",
    "print ('The chi square is'), chistat"
   ]
  },
  {
   "cell_type": "code",
   "execution_count": null,
   "metadata": {
    "collapsed": true
   },
   "outputs": [],
   "source": []
  }
 ],
 "metadata": {
  "kernelspec": {
   "display_name": "PUI2016_Python2",
   "language": "python",
   "name": "pui2016_python2"
  },
  "language_info": {
   "codemirror_mode": {
    "name": "ipython",
    "version": 2
   },
   "file_extension": ".py",
   "mimetype": "text/x-python",
   "name": "python",
   "nbconvert_exporter": "python",
   "pygments_lexer": "ipython2",
   "version": "2.7.12"
  }
 },
 "nbformat": 4,
 "nbformat_minor": 0
}
